{
 "nbformat": 4,
 "nbformat_minor": 2,
 "metadata": {
  "language_info": {
   "name": "python",
   "codemirror_mode": {
    "name": "ipython",
    "version": 3
   }
  },
  "orig_nbformat": 2,
  "file_extension": ".py",
  "mimetype": "text/x-python",
  "name": "python",
  "npconvert_exporter": "python",
  "pygments_lexer": "ipython3",
  "version": 3
 },
 "cells": [
  {
   "cell_type": "code",
   "execution_count": null,
   "metadata": {},
   "outputs": [],
   "source": [
    "import os\n",
    "import base64\n",
    "import io\n",
    "import dash\n",
    "import dash_core_components as dcc\n",
    "import dash_html_components as html\n",
    "from dash.dependencies import Input, Output, State\n",
    "\n",
    "from asset import reader,plt,process\n",
    "style={\n",
    "        'width': '100%',\n",
    "        'height': '60px',\n",
    "        'lineHeight': '60px',\n",
    "        'borderWidth': '1px',\n",
    "        'borderStyle': 'dashed',\n",
    "        'borderRadius': '5px',\n",
    "        'textAlign': 'center',\n",
    "        'margin': '10px'\n",
    "}\n",
    "app = dash.Dash(__name__, suppress_callback_exceptions=True)\n",
    "app.layout = html.Div([\n",
    "    dcc.Graph(id=\"graph\")\n",
    "])\n",
    "\n",
    "@app.callback(\n",
    "    Output(\"graph\",\"figure\"),\n",
    "    [\n",
    "        Input(\"path\",\"content\"),,\n",
    "        Input(\"name\"),\n",
    "        Input(\"color\"),\n",
    "        Input(\"colorscale\"),\n",
    "        Input(\"showscale\"),\n",
    "        Input(\"showlegend\"),\n",
    "        Input(\"row\"),\n",
    "        Input(\"col\"),\n",
    "        Input(\"style\"),\n",
    "        Input(\"figtype\")\n",
    "    ]\n",
    "        )\n",
    "def Figure(path,name,color,colorscale,showscale,showlegend,row,col,style,figtype):\n",
    "    content_type, content_string = contents.split(',')\n",
    "    decoded = base64.b64decode(content_string)\n",
    "    path = io.StringIO(decoded.decode('utf-8'))\n",
    "    df = reader.MakePickle(path)\n",
    "    x,y = df[\"X\"],df[\"Y\"]\n",
    "    figure = plt.Subplt(row,col)\n",
    "    figure = plt.MakeFigure(x,y,name,color,colorscale,showscale,showlegend,row,col,style,figtype)\n",
    "    figure = plt.Layout(figure)\n",
    "    return figure\n"
   ]
  }
 ]
}