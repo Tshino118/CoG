{
 "nbformat": 4,
 "nbformat_minor": 2,
 "metadata": {
  "language_info": {
   "name": "python",
   "codemirror_mode": {
    "name": "ipython",
    "version": 3
   },
   "version": "3.7.7-final"
  },
  "orig_nbformat": 2,
  "file_extension": ".py",
  "mimetype": "text/x-python",
  "name": "python",
  "npconvert_exporter": "python",
  "pygments_lexer": "ipython3",
  "version": 3,
  "kernelspec": {
   "name": "python3",
   "display_name": "Python 3"
  }
 },
 "cells": [
  {
   "cell_type": "code",
   "execution_count": null,
   "metadata": {},
   "outputs": [],
   "source": [
    "import os\n",
    "import dash\n",
    "import dash_core_components as dcc\n",
    "import dash_html_components as html\n",
    "from dash.dependencies import Input, Output, State"
   ]
  },
  {
   "cell_type": "code",
   "execution_count": null,
   "metadata": {},
   "outputs": [],
   "source": [
    "style={\n",
    "        'width': '100%',\n",
    "        'height': '60px',\n",
    "        'lineHeight': '60px',\n",
    "        'borderWidth': '1px',\n",
    "        'borderStyle': 'dashed',\n",
    "        'borderRadius': '5px',\n",
    "        'textAlign': 'center',\n",
    "        'margin': '10px'\n",
    "}\n",
    "app = dash.Dash(__name__, suppress_callback_exceptions=True)"
   ]
  },
  {
   "cell_type": "code",
   "execution_count": null,
   "metadata": {},
   "outputs": [],
   "source": [
    "app.layout = html.Div([\n",
    "    html.Button('Add Path', id='add-path', n_clicks=0),\n",
    "    html.Nav(id=\"upload-data\",children=[]),\n",
    "    html.Nav(id=\"upload-data-output\")\n",
    "])\n",
    "\n",
    "@app.callback(\n",
    "    Output(\"upload-data\",\"children\"),\n",
    "    [Input(\"add-path\",\"n_clicks\")],\n",
    "    [State(\"upload-data\",\"children\")]\n",
    ")\n",
    "def display_upload(n_clicks,children):\n",
    "    new_upload = dcc.Upload(\n",
    "        id={\n",
    "            \"type\":\"filter-upload\",\n",
    "            \"index\":n_clicks\n",
    "        },\n",
    "        children=html.Div([\n",
    "                'Drag and Drop or ',\n",
    "                html.A('Select Files')\n",
    "        ]),\n",
    "        style=style,\n",
    "        # Allow multiple files to be uploaded\n",
    "        multiple=False\n",
    "    )\n",
    "    children.append(new_upload)\n",
    "    return children\n",
    "\n",
    "@app.callback(\n",
    "    Output('upload-data-output', 'children'),\n",
    "    [Input({\"type\", \"index\"}, 'value')]\n",
    ")\n",
    "def display_output(values):\n",
    "    return html.Div([\n",
    "        html.Div('Data {} = {}'.format(i + 1, value))\n",
    "        for (i, value) in enumerate(values)\n",
    "    ])\n",
    ""
   ]
  },
  {
   "cell_type": "code",
   "execution_count": null,
   "metadata": {},
   "outputs": [],
   "source": [
    "if __name__ == '__main__':\n",
    "    app.run_server(debug=True, use_reloader=False)"
   ]
  },
  {
   "cell_type": "code",
   "execution_count": null,
   "metadata": {},
   "outputs": [],
   "source": []
  },
  {
   "cell_type": "code",
   "execution_count": null,
   "metadata": {},
   "outputs": [],
   "source": []
  }
 ]
}